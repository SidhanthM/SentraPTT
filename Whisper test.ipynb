{
 "cells": [
  {
   "cell_type": "code",
   "execution_count": 12,
   "metadata": {},
   "outputs": [],
   "source": [
    "import whisper\n",
    "import re\n",
    "import torch\n",
    "from fuzzywuzzy import process\n",
    "import os\n",
    "import glob"
   ]
  },
  {
   "cell_type": "code",
   "execution_count": null,
   "metadata": {},
   "outputs": [],
   "source": [
    "from langchain_core.prompts"
   ]
  },
  {
   "cell_type": "code",
   "execution_count": 13,
   "metadata": {},
   "outputs": [],
   "source": [
    "# Check if GPU is available\n",
    "device = \"cuda\" if torch.cuda.is_available() else \"cpu\"\n",
    "\n",
    "# Load Whisper model on GPU if available\n",
    "model = whisper.load_model(\"base\", device=device)"
   ]
  },
  {
   "cell_type": "code",
   "execution_count": 14,
   "metadata": {},
   "outputs": [],
   "source": [
    "def correct_transcription(text):\n",
    "    target_word = \"Sentra\"\n",
    "    words = text.split()\n",
    "    corrected_words = []\n",
    "    \n",
    "    for word in words:\n",
    "        match, score = process.extractOne(word, [target_word])\n",
    "        if score > 75:\n",
    "            corrected_words.append(target_word)\n",
    "        else:\n",
    "            corrected_words.append(word)\n",
    "    \n",
    "    return \" \".join(corrected_words)\n"
   ]
  },
  {
   "cell_type": "code",
   "execution_count": 15,
   "metadata": {},
   "outputs": [],
   "source": [
    "def transcribe_audio(file_path):\n",
    "    result = model.transcribe(file_path,fp16=False)\n",
    "    original_text = result[\"text\"]\n",
    "    corrected_text = correct_transcription(original_text)\n",
    "    return corrected_text\n"
   ]
  },
  {
   "cell_type": "code",
   "execution_count": 16,
   "metadata": {},
   "outputs": [],
   "source": [
    "def get_latest_file(directory):\n",
    "    # Get list of all files in the directory\n",
    "    list_of_files = glob.glob(os.path.join(directory, '*'))\n",
    "    if not list_of_files:\n",
    "        return None\n",
    "    # Find the latest file\n",
    "    latest_file = max(list_of_files, key=os.path.getctime)\n",
    "    return latest_file"
   ]
  },
  {
   "cell_type": "code",
   "execution_count": 18,
   "metadata": {},
   "outputs": [
    {
     "name": "stdout",
     "output_type": "stream",
     "text": [
      "Hello, how is the weather today?\n"
     ]
    }
   ],
   "source": [
    "# audio_file_path = \"SentraRecordings/Recording.mp3\"\n",
    "audio_file_path = get_latest_file(\"SentraRecordings\")\n",
    "transcription = transcribe_audio(audio_file_path)\n",
    "print(transcription)\n"
   ]
  },
  {
   "cell_type": "code",
   "execution_count": null,
   "metadata": {},
   "outputs": [],
   "source": []
  }
 ],
 "metadata": {
  "kernelspec": {
   "display_name": "base",
   "language": "python",
   "name": "python3"
  },
  "language_info": {
   "codemirror_mode": {
    "name": "ipython",
    "version": 3
   },
   "file_extension": ".py",
   "mimetype": "text/x-python",
   "name": "python",
   "nbconvert_exporter": "python",
   "pygments_lexer": "ipython3",
   "version": "3.11.5"
  }
 },
 "nbformat": 4,
 "nbformat_minor": 2
}
